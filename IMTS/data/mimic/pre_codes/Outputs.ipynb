{
 "cells": [
  {
   "cell_type": "markdown",
   "metadata": {},
   "source": [
    "# Pre-processing of the outputevents dataset"
   ]
  },
  {
   "cell_type": "code",
   "execution_count": 1,
   "metadata": {},
   "outputs": [],
   "source": [
    "import pandas as pd\n",
    "import matplotlib.pyplot as plt\n",
    "\n",
    "file_path=\"./files/mimiciii/1.4/\"\n",
    "\n",
    "pd.set_option('display.max_rows', 50)\n",
    "pd.set_option('display.max_columns', 300)"
   ]
  },
  {
   "cell_type": "code",
   "execution_count": 2,
   "metadata": {},
   "outputs": [],
   "source": [
    "adm=pd.read_csv(file_path+\"Admissions_processed.csv\")"
   ]
  },
  {
   "cell_type": "markdown",
   "metadata": {},
   "source": [
    "We now consider the outputevents dataset. We select only the patients with the same criteria as above."
   ]
  },
  {
   "cell_type": "code",
   "execution_count": 3,
   "metadata": {},
   "outputs": [],
   "source": [
    "outputs=pd.read_csv(file_path+\"OUTPUTEVENTS.csv\")"
   ]
  },
  {
   "cell_type": "code",
   "execution_count": 4,
   "metadata": {},
   "outputs": [
    {
     "name": "stdout",
     "output_type": "stream",
     "text": [
      "Number of patients remaining in the database: \n",
      "24540\n"
     ]
    }
   ],
   "source": [
    "#Some checks\n",
    "assert(len(outputs.loc[outputs[\"ISERROR\"].notnull()].index)==0) #No entry with iserror==TRUE\n",
    "\n",
    "#Restrict the dataset to the previously selected admission ids only.\n",
    "adm_ids=list(adm[\"HADM_ID\"])\n",
    "outputs=outputs.loc[outputs[\"HADM_ID\"].isin(adm_ids)]\n",
    "\n",
    "print(\"Number of patients remaining in the database: \")\n",
    "print(outputs[\"SUBJECT_ID\"].nunique())"
   ]
  },
  {
   "cell_type": "markdown",
   "metadata": {},
   "source": [
    "We load the D_ITEMS dataframe which contains the name of the ITEMID. And we merge both tables together."
   ]
  },
  {
   "cell_type": "code",
   "execution_count": 5,
   "metadata": {},
   "outputs": [
    {
     "name": "stdout",
     "output_type": "stream",
     "text": [
      "Number of patients remaining in the database: \n",
      "24540\n"
     ]
    }
   ],
   "source": [
    "#item_id \n",
    "item_id=pd.read_csv(file_path+\"D_ITEMS.csv\")\n",
    "item_id_1=item_id[[\"ITEMID\",\"LABEL\"]]\n",
    "item_id_1.head()\n",
    "\n",
    "#We merge the name of the item administrated.\n",
    "outputs_2=pd.merge(outputs,item_id_1,on=\"ITEMID\")\n",
    "outputs_2.head()\n",
    "print(\"Number of patients remaining in the database: \")\n",
    "print(outputs_2[\"SUBJECT_ID\"].nunique())"
   ]
  },
  {
   "cell_type": "markdown",
   "metadata": {},
   "source": [
    "We compute the number of patients that have the specific outputs labels and we select only the features that are the most present over the whole data set. For this, we rank the features by number of patients and select the n_best."
   ]
  },
  {
   "cell_type": "code",
   "execution_count": 6,
   "metadata": {},
   "outputs": [
    {
     "name": "stdout",
     "output_type": "stream",
     "text": [
      "Number of patients remaining in the database: \n",
      "24404\n",
      "Number of datapoints remaining in the database: \n",
      "1831977\n",
      "LABEL\n",
      "Urine Out Foley                              12682\n",
      "Foley                                         9674\n",
      "Stool Out Stool                               5104\n",
      "Chest Tubes CTICU CT 1                        3500\n",
      "Gastric Oral Gastric                          3357\n",
      "OR Urine                                      3355\n",
      "Void                                          3338\n",
      "Urine Out Void                                3316\n",
      "OR Out PACU Urine                             2926\n",
      "Chest Tube #1                                 2558\n",
      "Pre-Admission Output Pre-Admission Output     2197\n",
      "Pre-Admission                                 2006\n",
      "Oral Gastric                                  1819\n",
      "OR Out OR Urine                               1767\n",
      "OR Out EBL                                    1758\n",
      "Name: SUBJECT_ID, dtype: int64\n"
     ]
    }
   ],
   "source": [
    "n_best=15\n",
    "#For each item, evaluate the number of patients who have been given this item.\n",
    "pat_for_item=outputs_2.groupby(\"LABEL\")[\"SUBJECT_ID\"].nunique()\n",
    "#Order by occurence and take the 20 best (the ones with the most patients)\n",
    "frequent_labels=pat_for_item.sort_values(ascending=False)[:n_best]\n",
    "\n",
    "#Select only the time series with high occurence.\n",
    "outputs_3=outputs_2.loc[outputs_2[\"LABEL\"].isin(list(frequent_labels.index))].copy()\n",
    "\n",
    "print(\"Number of patients remaining in the database: \")\n",
    "print(outputs_3[\"SUBJECT_ID\"].nunique())\n",
    "print(\"Number of datapoints remaining in the database: \")\n",
    "print(len(outputs_3.index))\n",
    "\n",
    "print(frequent_labels)"
   ]
  },
  {
   "cell_type": "markdown",
   "metadata": {},
   "source": [
    "#### Eventually, we select the same labels of the paper"
   ]
  },
  {
   "cell_type": "code",
   "execution_count": 7,
   "metadata": {},
   "outputs": [
    {
     "name": "stdout",
     "output_type": "stream",
     "text": [
      "Number of patients remaining in the database: \n",
      "15964\n",
      "Number of datapoints remaining in the database: \n",
      "781675\n"
     ]
    }
   ],
   "source": [
    "outputs_label_list=['Gastric Gastric Tube','Stool Out Stool','Urine Out Incontinent','Ultrafiltrate Ultrafiltrate','Foley', 'Void','Condom Cath','Fecal Bag','Ostomy (output)','Chest Tube #1','Chest Tube #2','Jackson Pratt #1','OR EBL','Pre-Admission','TF Residual']\n",
    "outputs_bis=outputs_2.loc[outputs_2[\"LABEL\"].isin(outputs_label_list)].copy()\n",
    "\n",
    "print(\"Number of patients remaining in the database: \")\n",
    "print(outputs_bis[\"SUBJECT_ID\"].nunique())\n",
    "print(\"Number of datapoints remaining in the database: \")\n",
    "print(len(outputs_bis.index))\n",
    "\n",
    "outputs_3=outputs_bis.copy()"
   ]
  },
  {
   "cell_type": "markdown",
   "metadata": {},
   "source": [
    "# Cleaning of the output data\n",
    "\n",
    "### Units Cleaning\n",
    "\n",
    "#### 1) Amounts"
   ]
  },
  {
   "cell_type": "code",
   "execution_count": 8,
   "metadata": {},
   "outputs": [
    {
     "data": {
      "text/plain": [
       "LABEL                        VALUEUOM\n",
       "Chest Tube #1                mL           59614\n",
       "Chest Tube #2                mL            7647\n",
       "Condom Cath                  mL            2439\n",
       "Fecal Bag                    mL            1278\n",
       "Foley                        mL          603016\n",
       "Gastric Gastric Tube         ml            1665\n",
       "Jackson Pratt #1             mL            8487\n",
       "OR EBL                       mL            1992\n",
       "Ostomy (output)              mL            1579\n",
       "Pre-Admission                mL            2759\n",
       "Stool Out Stool              ml           30987\n",
       "TF Residual                  mL           12181\n",
       "Ultrafiltrate Ultrafiltrate  ml           18850\n",
       "Urine Out Incontinent        ml             976\n",
       "Void                         mL           27689\n",
       "Name: VALUEUOM, dtype: int64"
      ]
     },
     "execution_count": 8,
     "metadata": {},
     "output_type": "execute_result"
    }
   ],
   "source": [
    "#Verification that all input labels have the same amounts units.\n",
    "outputs_3.groupby(\"LABEL\")[\"VALUEUOM\"].value_counts() #OK"
   ]
  },
  {
   "cell_type": "markdown",
   "metadata": {},
   "source": [
    "### Check for outliers\n",
    "\n",
    "#### 1) In amounts"
   ]
  },
  {
   "cell_type": "code",
   "execution_count": 9,
   "metadata": {},
   "outputs": [
    {
     "data": {
      "text/html": [
       "<div>\n",
       "<style scoped>\n",
       "    .dataframe tbody tr th:only-of-type {\n",
       "        vertical-align: middle;\n",
       "    }\n",
       "\n",
       "    .dataframe tbody tr th {\n",
       "        vertical-align: top;\n",
       "    }\n",
       "\n",
       "    .dataframe thead th {\n",
       "        text-align: right;\n",
       "    }\n",
       "</style>\n",
       "<table border=\"1\" class=\"dataframe\">\n",
       "  <thead>\n",
       "    <tr style=\"text-align: right;\">\n",
       "      <th></th>\n",
       "      <th>count</th>\n",
       "      <th>mean</th>\n",
       "      <th>std</th>\n",
       "      <th>min</th>\n",
       "      <th>25%</th>\n",
       "      <th>50%</th>\n",
       "      <th>75%</th>\n",
       "      <th>max</th>\n",
       "    </tr>\n",
       "    <tr>\n",
       "      <th>LABEL</th>\n",
       "      <th></th>\n",
       "      <th></th>\n",
       "      <th></th>\n",
       "      <th></th>\n",
       "      <th></th>\n",
       "      <th></th>\n",
       "      <th></th>\n",
       "      <th></th>\n",
       "    </tr>\n",
       "  </thead>\n",
       "  <tbody>\n",
       "    <tr>\n",
       "      <th>Chest Tube #1</th>\n",
       "      <td>59614.0</td>\n",
       "      <td>37.560180</td>\n",
       "      <td>60.397672</td>\n",
       "      <td>0.0</td>\n",
       "      <td>10.0</td>\n",
       "      <td>30.0</td>\n",
       "      <td>50.00</td>\n",
       "      <td>2500.0</td>\n",
       "    </tr>\n",
       "    <tr>\n",
       "      <th>Chest Tube #2</th>\n",
       "      <td>7647.0</td>\n",
       "      <td>31.988361</td>\n",
       "      <td>63.908518</td>\n",
       "      <td>0.0</td>\n",
       "      <td>0.0</td>\n",
       "      <td>20.0</td>\n",
       "      <td>40.00</td>\n",
       "      <td>1900.0</td>\n",
       "    </tr>\n",
       "    <tr>\n",
       "      <th>Condom Cath</th>\n",
       "      <td>2439.0</td>\n",
       "      <td>243.642066</td>\n",
       "      <td>222.121737</td>\n",
       "      <td>0.0</td>\n",
       "      <td>100.0</td>\n",
       "      <td>200.0</td>\n",
       "      <td>325.00</td>\n",
       "      <td>2350.0</td>\n",
       "    </tr>\n",
       "    <tr>\n",
       "      <th>Fecal Bag</th>\n",
       "      <td>1278.0</td>\n",
       "      <td>445.411581</td>\n",
       "      <td>340.925912</td>\n",
       "      <td>0.0</td>\n",
       "      <td>200.0</td>\n",
       "      <td>350.0</td>\n",
       "      <td>678.75</td>\n",
       "      <td>2500.0</td>\n",
       "    </tr>\n",
       "    <tr>\n",
       "      <th>Foley</th>\n",
       "      <td>603016.0</td>\n",
       "      <td>125.559091</td>\n",
       "      <td>5896.453024</td>\n",
       "      <td>0.0</td>\n",
       "      <td>45.0</td>\n",
       "      <td>80.0</td>\n",
       "      <td>150.00</td>\n",
       "      <td>4555555.0</td>\n",
       "    </tr>\n",
       "    <tr>\n",
       "      <th>Gastric Gastric Tube</th>\n",
       "      <td>1727.0</td>\n",
       "      <td>116.611465</td>\n",
       "      <td>154.821776</td>\n",
       "      <td>0.0</td>\n",
       "      <td>14.0</td>\n",
       "      <td>60.0</td>\n",
       "      <td>150.00</td>\n",
       "      <td>1600.0</td>\n",
       "    </tr>\n",
       "    <tr>\n",
       "      <th>Jackson Pratt #1</th>\n",
       "      <td>8487.0</td>\n",
       "      <td>75.190256</td>\n",
       "      <td>104.936289</td>\n",
       "      <td>0.0</td>\n",
       "      <td>20.0</td>\n",
       "      <td>45.0</td>\n",
       "      <td>90.00</td>\n",
       "      <td>1325.0</td>\n",
       "    </tr>\n",
       "    <tr>\n",
       "      <th>OR EBL</th>\n",
       "      <td>1992.0</td>\n",
       "      <td>684.765060</td>\n",
       "      <td>1483.872724</td>\n",
       "      <td>0.0</td>\n",
       "      <td>100.0</td>\n",
       "      <td>250.0</td>\n",
       "      <td>600.00</td>\n",
       "      <td>20000.0</td>\n",
       "    </tr>\n",
       "    <tr>\n",
       "      <th>Ostomy (output)</th>\n",
       "      <td>1579.0</td>\n",
       "      <td>203.476251</td>\n",
       "      <td>169.091290</td>\n",
       "      <td>0.0</td>\n",
       "      <td>100.0</td>\n",
       "      <td>175.0</td>\n",
       "      <td>300.00</td>\n",
       "      <td>2000.0</td>\n",
       "    </tr>\n",
       "    <tr>\n",
       "      <th>Pre-Admission</th>\n",
       "      <td>2759.0</td>\n",
       "      <td>616.539688</td>\n",
       "      <td>769.411777</td>\n",
       "      <td>-689.0</td>\n",
       "      <td>140.0</td>\n",
       "      <td>400.0</td>\n",
       "      <td>800.00</td>\n",
       "      <td>11000.0</td>\n",
       "    </tr>\n",
       "    <tr>\n",
       "      <th>Stool Out Stool</th>\n",
       "      <td>7886.0</td>\n",
       "      <td>175.095105</td>\n",
       "      <td>236.760958</td>\n",
       "      <td>0.0</td>\n",
       "      <td>0.0</td>\n",
       "      <td>100.0</td>\n",
       "      <td>250.00</td>\n",
       "      <td>3500.0</td>\n",
       "    </tr>\n",
       "    <tr>\n",
       "      <th>TF Residual</th>\n",
       "      <td>12181.0</td>\n",
       "      <td>31.609310</td>\n",
       "      <td>60.015638</td>\n",
       "      <td>0.0</td>\n",
       "      <td>0.0</td>\n",
       "      <td>10.0</td>\n",
       "      <td>30.00</td>\n",
       "      <td>880.0</td>\n",
       "    </tr>\n",
       "    <tr>\n",
       "      <th>Ultrafiltrate Ultrafiltrate</th>\n",
       "      <td>18879.0</td>\n",
       "      <td>206.068113</td>\n",
       "      <td>381.112412</td>\n",
       "      <td>0.0</td>\n",
       "      <td>80.0</td>\n",
       "      <td>150.0</td>\n",
       "      <td>238.00</td>\n",
       "      <td>26000.0</td>\n",
       "    </tr>\n",
       "    <tr>\n",
       "      <th>Urine Out Incontinent</th>\n",
       "      <td>177.0</td>\n",
       "      <td>61.847458</td>\n",
       "      <td>111.466589</td>\n",
       "      <td>0.0</td>\n",
       "      <td>0.0</td>\n",
       "      <td>0.0</td>\n",
       "      <td>100.00</td>\n",
       "      <td>600.0</td>\n",
       "    </tr>\n",
       "    <tr>\n",
       "      <th>Void</th>\n",
       "      <td>27689.0</td>\n",
       "      <td>299.927119</td>\n",
       "      <td>197.336764</td>\n",
       "      <td>-1500.0</td>\n",
       "      <td>150.0</td>\n",
       "      <td>250.0</td>\n",
       "      <td>400.00</td>\n",
       "      <td>2000.0</td>\n",
       "    </tr>\n",
       "  </tbody>\n",
       "</table>\n",
       "</div>"
      ],
      "text/plain": [
       "                                count        mean          std     min    25%  \\\n",
       "LABEL                                                                           \n",
       "Chest Tube #1                 59614.0   37.560180    60.397672     0.0   10.0   \n",
       "Chest Tube #2                  7647.0   31.988361    63.908518     0.0    0.0   \n",
       "Condom Cath                    2439.0  243.642066   222.121737     0.0  100.0   \n",
       "Fecal Bag                      1278.0  445.411581   340.925912     0.0  200.0   \n",
       "Foley                        603016.0  125.559091  5896.453024     0.0   45.0   \n",
       "Gastric Gastric Tube           1727.0  116.611465   154.821776     0.0   14.0   \n",
       "Jackson Pratt #1               8487.0   75.190256   104.936289     0.0   20.0   \n",
       "OR EBL                         1992.0  684.765060  1483.872724     0.0  100.0   \n",
       "Ostomy (output)                1579.0  203.476251   169.091290     0.0  100.0   \n",
       "Pre-Admission                  2759.0  616.539688   769.411777  -689.0  140.0   \n",
       "Stool Out Stool                7886.0  175.095105   236.760958     0.0    0.0   \n",
       "TF Residual                   12181.0   31.609310    60.015638     0.0    0.0   \n",
       "Ultrafiltrate Ultrafiltrate   18879.0  206.068113   381.112412     0.0   80.0   \n",
       "Urine Out Incontinent           177.0   61.847458   111.466589     0.0    0.0   \n",
       "Void                          27689.0  299.927119   197.336764 -1500.0  150.0   \n",
       "\n",
       "                               50%     75%        max  \n",
       "LABEL                                                  \n",
       "Chest Tube #1                 30.0   50.00     2500.0  \n",
       "Chest Tube #2                 20.0   40.00     1900.0  \n",
       "Condom Cath                  200.0  325.00     2350.0  \n",
       "Fecal Bag                    350.0  678.75     2500.0  \n",
       "Foley                         80.0  150.00  4555555.0  \n",
       "Gastric Gastric Tube          60.0  150.00     1600.0  \n",
       "Jackson Pratt #1              45.0   90.00     1325.0  \n",
       "OR EBL                       250.0  600.00    20000.0  \n",
       "Ostomy (output)              175.0  300.00     2000.0  \n",
       "Pre-Admission                400.0  800.00    11000.0  \n",
       "Stool Out Stool              100.0  250.00     3500.0  \n",
       "TF Residual                   10.0   30.00      880.0  \n",
       "Ultrafiltrate Ultrafiltrate  150.0  238.00    26000.0  \n",
       "Urine Out Incontinent          0.0  100.00      600.0  \n",
       "Void                         250.0  400.00     2000.0  "
      ]
     },
     "execution_count": 9,
     "metadata": {},
     "output_type": "execute_result"
    }
   ],
   "source": [
    "outputs_3.groupby(\"LABEL\")[\"VALUE\"].describe()"
   ]
  },
  {
   "cell_type": "code",
   "execution_count": 10,
   "metadata": {},
   "outputs": [
    {
     "name": "stdout",
     "output_type": "stream",
     "text": [
      "Number of patients remaining in the database: \n",
      "15934\n",
      "Number of datapoints remaining in the database: \n",
      "780550\n"
     ]
    }
   ],
   "source": [
    "#Remove all entries whose rate is more than 4 std away from the mean.\n",
    "out_desc=outputs_3.groupby(\"LABEL\")[\"VALUE\"].describe()\n",
    "name_list=list(out_desc.loc[out_desc[\"count\"]!=0].index)\n",
    "for label in name_list:\n",
    "    outputs_3=outputs_3.drop(outputs_3.loc[(outputs_3[\"LABEL\"]==label)&(outputs_3[\"VALUE\"]>(out_desc.loc[label,\"mean\"]+4*out_desc.loc[label,\"std\"]))].index).copy()\n",
    "\n",
    "print(\"Number of patients remaining in the database: \")\n",
    "print(outputs_3[\"SUBJECT_ID\"].nunique())\n",
    "print(\"Number of datapoints remaining in the database: \")\n",
    "print(len(outputs_3.index))"
   ]
  },
  {
   "cell_type": "code",
   "execution_count": 11,
   "metadata": {},
   "outputs": [
    {
     "name": "stdout",
     "output_type": "stream",
     "text": [
      "Number of patients remaining in the database: \n",
      "12987\n",
      "Number of datapoints remaining in the database: \n",
      "756217\n"
     ]
    }
   ],
   "source": [
    "#Clean Foley, remove too large values\n",
    "outputs_3=outputs_3.drop(outputs_3.loc[(outputs_3[\"LABEL\"]==\"Foley\") & (outputs_3[\"VALUE\"]>5500)].index).copy()\n",
    "#Clean Expected Blood Loss, remove too large values\n",
    "outputs_3=outputs_3.drop(outputs_3.loc[(outputs_3[\"LABEL\"]==\"OR EBL\") & (outputs_3[\"VALUE\"]>5000)].index).copy()\n",
    "#Clean Out Expected Blood Loss, remove too large values\n",
    "outputs_3=outputs_3.drop(outputs_3.loc[(outputs_3[\"LABEL\"]==\"OR Out EBL\") & (outputs_3[\"VALUE\"]>5000)].index).copy()\n",
    "#Clean OR Urine, remove too large values\n",
    "outputs_3=outputs_3.drop(outputs_3.loc[(outputs_3[\"LABEL\"]==\"OR Urine\") & (outputs_3[\"VALUE\"]>5000)].index).copy()\n",
    "#Clean Pre-Admission, remove too large and negative values\n",
    "outputs_3=outputs_3.drop(outputs_3.loc[(outputs_3[\"LABEL\"]==\"Pre-Admission\") & (outputs_3[\"VALUE\"]<0)].index).copy()\n",
    "outputs_3=outputs_3.drop(outputs_3.loc[(outputs_3[\"LABEL\"]==\"Pre-Admission\") & (outputs_3[\"VALUE\"]>5000)].index).copy()\n",
    "#Clean Pre-Admission output, remove too large values\n",
    "outputs_3=outputs_3.drop(outputs_3.loc[(outputs_3[\"LABEL\"]==\"Pre-Admission Output Pre-Admission Output\") & (outputs_3[\"VALUE\"]>5000)].index).copy()\n",
    "#Clean Urine Out Foley output, remove too large values\n",
    "outputs_3=outputs_3.drop(outputs_3.loc[(outputs_3[\"LABEL\"]==\"Urine Out Foley\") & (outputs_3[\"VALUE\"]>5000)].index).copy()\n",
    "#Clean Void, remove negative values\n",
    "outputs_3=outputs_3.drop(outputs_3.loc[(outputs_3[\"LABEL\"]==\"Void\") & (outputs_3[\"VALUE\"]<0)].index).copy()\n",
    "\n",
    "outputs_3.dropna(subset=[\"VALUE\"],inplace=True)\n",
    "\n",
    "print(\"Number of patients remaining in the database: \")\n",
    "print(outputs_3[\"SUBJECT_ID\"].nunique())\n",
    "print(\"Number of datapoints remaining in the database: \")\n",
    "print(len(outputs_3.index))"
   ]
  },
  {
   "cell_type": "markdown",
   "metadata": {},
   "source": [
    "As data is already in timestamp format, we don't neeed to consider rates"
   ]
  },
  {
   "cell_type": "code",
   "execution_count": 12,
   "metadata": {},
   "outputs": [],
   "source": [
    "outputs_3.to_csv(file_path+\"OUTPUTS_processed.csv\")"
   ]
  },
  {
   "cell_type": "code",
   "execution_count": null,
   "metadata": {},
   "outputs": [],
   "source": []
  }
 ],
 "metadata": {
  "kernelspec": {
   "display_name": "mimic_prepare",
   "language": "python",
   "name": "python3"
  },
  "language_info": {
   "codemirror_mode": {
    "name": "ipython",
    "version": 3
   },
   "file_extension": ".py",
   "mimetype": "text/x-python",
   "name": "python",
   "nbconvert_exporter": "python",
   "pygments_lexer": "ipython3",
   "version": "3.6.13"
  }
 },
 "nbformat": 4,
 "nbformat_minor": 2
}
